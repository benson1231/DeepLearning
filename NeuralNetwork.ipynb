{
  "nbformat": 4,
  "nbformat_minor": 0,
  "metadata": {
    "colab": {
      "provenance": [],
      "gpuType": "T4",
      "authorship_tag": "ABX9TyNJQNhkZnoJRMi0xuM1QbWI",
      "include_colab_link": true
    },
    "kernelspec": {
      "name": "python3",
      "display_name": "Python 3"
    },
    "language_info": {
      "name": "python"
    },
    "accelerator": "GPU"
  },
  "cells": [
    {
      "cell_type": "markdown",
      "metadata": {
        "id": "view-in-github",
        "colab_type": "text"
      },
      "source": [
        "<a href=\"https://colab.research.google.com/github/benson1231/DeepLearning/blob/main/NeuralNetwork.ipynb\" target=\"_parent\"><img src=\"https://colab.research.google.com/assets/colab-badge.svg\" alt=\"Open In Colab\"/></a>"
      ]
    },
    {
      "cell_type": "markdown",
      "source": [
        "# Regression"
      ],
      "metadata": {
        "id": "rdCz-7NsGkja"
      }
    },
    {
      "cell_type": "code",
      "source": [
        "from google.colab import drive\n",
        "drive.mount('/content/drive')\n",
        "data_path = \"drive/MyDrive/MachineLearning/insurance.csv\""
      ],
      "metadata": {
        "colab": {
          "base_uri": "https://localhost:8080/"
        },
        "id": "LqiCq-ATxxn9",
        "outputId": "f4499efa-dee2-4251-b651-5dfdb5457257"
      },
      "execution_count": 1,
      "outputs": [
        {
          "output_type": "stream",
          "name": "stdout",
          "text": [
            "Mounted at /content/drive\n"
          ]
        }
      ]
    },
    {
      "cell_type": "code",
      "source": [
        "import pandas as pd\n",
        "import numpy as np\n",
        "import tensorflow as tf\n",
        "from sklearn.model_selection import train_test_split\n",
        "from sklearn.compose import ColumnTransformer\n",
        "from sklearn.preprocessing import StandardScaler\n",
        "from tensorflow.keras.models import Sequential\n",
        "from tensorflow.keras.layers import InputLayer, Dense\n",
        "from tensorflow.keras.optimizers import Adam\n",
        "\n",
        "tf.random.set_seed(35)  # for reproducibility\n",
        "\n",
        "def design_model(features):\n",
        "    model = Sequential(name=\"my_first_model\")\n",
        "    # Input layer\n",
        "    input = InputLayer(shape=(features.shape[1],))\n",
        "    model.add(input)\n",
        "    # Hidden layer with 128 neurons\n",
        "    model.add(Dense(64, activation='relu'))\n",
        "    # Output layer\n",
        "    model.add(Dense(1))\n",
        "    # Compile model\n",
        "    opt = Adam(learning_rate=0.01)\n",
        "    model.compile(loss='mse', metrics=['mae'], optimizer=opt)\n",
        "    return model\n",
        "\n",
        "# 讀取資料\n",
        "dataset = pd.read_csv(data_path)\n",
        "\n",
        "# 特徵與目標變數\n",
        "features = dataset.iloc[:, 0:6]  # 前6列為特徵\n",
        "labels = dataset.iloc[:, -1]  # 最後一列為目標變數\n",
        "\n",
        "# One-hot 編碼處理類別型變數\n",
        "features = pd.get_dummies(features)\n",
        "\n",
        "# 資料分割為訓練集和測試集\n",
        "features_train, features_test, labels_train, labels_test = train_test_split(\n",
        "    features, labels, test_size=0.3, random_state=42)\n",
        "\n",
        "# 標準化處理\n",
        "ct = ColumnTransformer([('standardize', StandardScaler(), ['age', 'bmi', 'children'])],\n",
        "                       remainder='passthrough')\n",
        "features_train = ct.fit_transform(features_train)\n",
        "features_test = ct.transform(features_test)\n",
        "\n",
        "# 確保數據轉換為數值格式\n",
        "features_train = np.array(features_train, dtype=np.float32)\n",
        "features_test = np.array(features_test, dtype=np.float32)\n",
        "labels_train = np.array(labels_train, dtype=np.float32)\n",
        "labels_test = np.array(labels_test, dtype=np.float32)\n",
        "\n",
        "# 設計模型\n",
        "model = design_model(features_train)\n",
        "print(model.summary())\n",
        "\n",
        "# 訓練模型\n",
        "model.fit(features_train, labels_train, epochs=20, batch_size=1, verbose=1)\n",
        "\n",
        "# 評估模型\n",
        "val_mse, val_mae = model.evaluate(features_test, labels_test, verbose=0)\n",
        "\n",
        "print(\"MAE: \", val_mae)"
      ],
      "metadata": {
        "id": "rwOXMEQLwr2Q",
        "colab": {
          "base_uri": "https://localhost:8080/",
          "height": 949
        },
        "outputId": "d8f7855b-1918-4eb9-a082-8437ed8eb95c"
      },
      "execution_count": 10,
      "outputs": [
        {
          "output_type": "display_data",
          "data": {
            "text/plain": [
              "\u001b[1mModel: \"my_first_model\"\u001b[0m\n"
            ],
            "text/html": [
              "<pre style=\"white-space:pre;overflow-x:auto;line-height:normal;font-family:Menlo,'DejaVu Sans Mono',consolas,'Courier New',monospace\"><span style=\"font-weight: bold\">Model: \"my_first_model\"</span>\n",
              "</pre>\n"
            ]
          },
          "metadata": {}
        },
        {
          "output_type": "display_data",
          "data": {
            "text/plain": [
              "┏━━━━━━━━━━━━━━━━━━━━━━━━━━━━━━━━━━━━━━┳━━━━━━━━━━━━━━━━━━━━━━━━━━━━━┳━━━━━━━━━━━━━━━━━┓\n",
              "┃\u001b[1m \u001b[0m\u001b[1mLayer (type)                        \u001b[0m\u001b[1m \u001b[0m┃\u001b[1m \u001b[0m\u001b[1mOutput Shape               \u001b[0m\u001b[1m \u001b[0m┃\u001b[1m \u001b[0m\u001b[1m        Param #\u001b[0m\u001b[1m \u001b[0m┃\n",
              "┡━━━━━━━━━━━━━━━━━━━━━━━━━━━━━━━━━━━━━━╇━━━━━━━━━━━━━━━━━━━━━━━━━━━━━╇━━━━━━━━━━━━━━━━━┩\n",
              "│ dense_8 (\u001b[38;5;33mDense\u001b[0m)                      │ (\u001b[38;5;45mNone\u001b[0m, \u001b[38;5;34m64\u001b[0m)                  │             \u001b[38;5;34m640\u001b[0m │\n",
              "├──────────────────────────────────────┼─────────────────────────────┼─────────────────┤\n",
              "│ dense_9 (\u001b[38;5;33mDense\u001b[0m)                      │ (\u001b[38;5;45mNone\u001b[0m, \u001b[38;5;34m1\u001b[0m)                   │              \u001b[38;5;34m65\u001b[0m │\n",
              "└──────────────────────────────────────┴─────────────────────────────┴─────────────────┘\n"
            ],
            "text/html": [
              "<pre style=\"white-space:pre;overflow-x:auto;line-height:normal;font-family:Menlo,'DejaVu Sans Mono',consolas,'Courier New',monospace\">┏━━━━━━━━━━━━━━━━━━━━━━━━━━━━━━━━━━━━━━┳━━━━━━━━━━━━━━━━━━━━━━━━━━━━━┳━━━━━━━━━━━━━━━━━┓\n",
              "┃<span style=\"font-weight: bold\"> Layer (type)                         </span>┃<span style=\"font-weight: bold\"> Output Shape                </span>┃<span style=\"font-weight: bold\">         Param # </span>┃\n",
              "┡━━━━━━━━━━━━━━━━━━━━━━━━━━━━━━━━━━━━━━╇━━━━━━━━━━━━━━━━━━━━━━━━━━━━━╇━━━━━━━━━━━━━━━━━┩\n",
              "│ dense_8 (<span style=\"color: #0087ff; text-decoration-color: #0087ff\">Dense</span>)                      │ (<span style=\"color: #00d7ff; text-decoration-color: #00d7ff\">None</span>, <span style=\"color: #00af00; text-decoration-color: #00af00\">64</span>)                  │             <span style=\"color: #00af00; text-decoration-color: #00af00\">640</span> │\n",
              "├──────────────────────────────────────┼─────────────────────────────┼─────────────────┤\n",
              "│ dense_9 (<span style=\"color: #0087ff; text-decoration-color: #0087ff\">Dense</span>)                      │ (<span style=\"color: #00d7ff; text-decoration-color: #00d7ff\">None</span>, <span style=\"color: #00af00; text-decoration-color: #00af00\">1</span>)                   │              <span style=\"color: #00af00; text-decoration-color: #00af00\">65</span> │\n",
              "└──────────────────────────────────────┴─────────────────────────────┴─────────────────┘\n",
              "</pre>\n"
            ]
          },
          "metadata": {}
        },
        {
          "output_type": "display_data",
          "data": {
            "text/plain": [
              "\u001b[1m Total params: \u001b[0m\u001b[38;5;34m705\u001b[0m (2.75 KB)\n"
            ],
            "text/html": [
              "<pre style=\"white-space:pre;overflow-x:auto;line-height:normal;font-family:Menlo,'DejaVu Sans Mono',consolas,'Courier New',monospace\"><span style=\"font-weight: bold\"> Total params: </span><span style=\"color: #00af00; text-decoration-color: #00af00\">705</span> (2.75 KB)\n",
              "</pre>\n"
            ]
          },
          "metadata": {}
        },
        {
          "output_type": "display_data",
          "data": {
            "text/plain": [
              "\u001b[1m Trainable params: \u001b[0m\u001b[38;5;34m705\u001b[0m (2.75 KB)\n"
            ],
            "text/html": [
              "<pre style=\"white-space:pre;overflow-x:auto;line-height:normal;font-family:Menlo,'DejaVu Sans Mono',consolas,'Courier New',monospace\"><span style=\"font-weight: bold\"> Trainable params: </span><span style=\"color: #00af00; text-decoration-color: #00af00\">705</span> (2.75 KB)\n",
              "</pre>\n"
            ]
          },
          "metadata": {}
        },
        {
          "output_type": "display_data",
          "data": {
            "text/plain": [
              "\u001b[1m Non-trainable params: \u001b[0m\u001b[38;5;34m0\u001b[0m (0.00 B)\n"
            ],
            "text/html": [
              "<pre style=\"white-space:pre;overflow-x:auto;line-height:normal;font-family:Menlo,'DejaVu Sans Mono',consolas,'Courier New',monospace\"><span style=\"font-weight: bold\"> Non-trainable params: </span><span style=\"color: #00af00; text-decoration-color: #00af00\">0</span> (0.00 B)\n",
              "</pre>\n"
            ]
          },
          "metadata": {}
        },
        {
          "output_type": "stream",
          "name": "stdout",
          "text": [
            "None\n",
            "Epoch 1/20\n",
            "\u001b[1m936/936\u001b[0m \u001b[32m━━━━━━━━━━━━━━━━━━━━\u001b[0m\u001b[37m\u001b[0m \u001b[1m3s\u001b[0m 2ms/step - loss: 275895488.0000 - mae: 12086.6592\n",
            "Epoch 2/20\n",
            "\u001b[1m936/936\u001b[0m \u001b[32m━━━━━━━━━━━━━━━━━━━━\u001b[0m\u001b[37m\u001b[0m \u001b[1m3s\u001b[0m 3ms/step - loss: 113062528.0000 - mae: 6810.2163\n",
            "Epoch 3/20\n",
            "\u001b[1m936/936\u001b[0m \u001b[32m━━━━━━━━━━━━━━━━━━━━\u001b[0m\u001b[37m\u001b[0m \u001b[1m3s\u001b[0m 3ms/step - loss: 81154560.0000 - mae: 6790.6309\n",
            "Epoch 4/20\n",
            "\u001b[1m936/936\u001b[0m \u001b[32m━━━━━━━━━━━━━━━━━━━━\u001b[0m\u001b[37m\u001b[0m \u001b[1m4s\u001b[0m 4ms/step - loss: 67589128.0000 - mae: 6303.7827\n",
            "Epoch 5/20\n",
            "\u001b[1m936/936\u001b[0m \u001b[32m━━━━━━━━━━━━━━━━━━━━\u001b[0m\u001b[37m\u001b[0m \u001b[1m4s\u001b[0m 4ms/step - loss: 56761092.0000 - mae: 5762.6953\n",
            "Epoch 6/20\n",
            "\u001b[1m936/936\u001b[0m \u001b[32m━━━━━━━━━━━━━━━━━━━━\u001b[0m\u001b[37m\u001b[0m \u001b[1m3s\u001b[0m 1ms/step - loss: 48590284.0000 - mae: 5378.2607\n",
            "Epoch 7/20\n",
            "\u001b[1m936/936\u001b[0m \u001b[32m━━━━━━━━━━━━━━━━━━━━\u001b[0m\u001b[37m\u001b[0m \u001b[1m1s\u001b[0m 1ms/step - loss: 43150412.0000 - mae: 5048.9722\n",
            "Epoch 8/20\n",
            "\u001b[1m936/936\u001b[0m \u001b[32m━━━━━━━━━━━━━━━━━━━━\u001b[0m\u001b[37m\u001b[0m \u001b[1m2s\u001b[0m 2ms/step - loss: 40074000.0000 - mae: 4789.1064\n",
            "Epoch 9/20\n",
            "\u001b[1m936/936\u001b[0m \u001b[32m━━━━━━━━━━━━━━━━━━━━\u001b[0m\u001b[37m\u001b[0m \u001b[1m2s\u001b[0m 1ms/step - loss: 38615144.0000 - mae: 4608.1045\n",
            "Epoch 10/20\n",
            "\u001b[1m936/936\u001b[0m \u001b[32m━━━━━━━━━━━━━━━━━━━━\u001b[0m\u001b[37m\u001b[0m \u001b[1m1s\u001b[0m 1ms/step - loss: 38021676.0000 - mae: 4487.7847\n",
            "Epoch 11/20\n",
            "\u001b[1m936/936\u001b[0m \u001b[32m━━━━━━━━━━━━━━━━━━━━\u001b[0m\u001b[37m\u001b[0m \u001b[1m2s\u001b[0m 2ms/step - loss: 37800164.0000 - mae: 4406.1504\n",
            "Epoch 12/20\n",
            "\u001b[1m936/936\u001b[0m \u001b[32m━━━━━━━━━━━━━━━━━━━━\u001b[0m\u001b[37m\u001b[0m \u001b[1m2s\u001b[0m 2ms/step - loss: 37708528.0000 - mae: 4349.9487\n",
            "Epoch 13/20\n",
            "\u001b[1m936/936\u001b[0m \u001b[32m━━━━━━━━━━━━━━━━━━━━\u001b[0m\u001b[37m\u001b[0m \u001b[1m2s\u001b[0m 1ms/step - loss: 37635988.0000 - mae: 4307.1665\n",
            "Epoch 14/20\n",
            "\u001b[1m936/936\u001b[0m \u001b[32m━━━━━━━━━━━━━━━━━━━━\u001b[0m\u001b[37m\u001b[0m \u001b[1m2s\u001b[0m 1ms/step - loss: 37530228.0000 - mae: 4270.7124\n",
            "Epoch 15/20\n",
            "\u001b[1m936/936\u001b[0m \u001b[32m━━━━━━━━━━━━━━━━━━━━\u001b[0m\u001b[37m\u001b[0m \u001b[1m1s\u001b[0m 1ms/step - loss: 37384084.0000 - mae: 4239.0649\n",
            "Epoch 16/20\n",
            "\u001b[1m936/936\u001b[0m \u001b[32m━━━━━━━━━━━━━━━━━━━━\u001b[0m\u001b[37m\u001b[0m \u001b[1m1s\u001b[0m 1ms/step - loss: 37186660.0000 - mae: 4207.5371\n",
            "Epoch 17/20\n",
            "\u001b[1m936/936\u001b[0m \u001b[32m━━━━━━━━━━━━━━━━━━━━\u001b[0m\u001b[37m\u001b[0m \u001b[1m1s\u001b[0m 1ms/step - loss: 36951060.0000 - mae: 4176.6074\n",
            "Epoch 18/20\n",
            "\u001b[1m936/936\u001b[0m \u001b[32m━━━━━━━━━━━━━━━━━━━━\u001b[0m\u001b[37m\u001b[0m \u001b[1m1s\u001b[0m 1ms/step - loss: 36688572.0000 - mae: 4145.3354\n",
            "Epoch 19/20\n",
            "\u001b[1m936/936\u001b[0m \u001b[32m━━━━━━━━━━━━━━━━━━━━\u001b[0m\u001b[37m\u001b[0m \u001b[1m1s\u001b[0m 1ms/step - loss: 36412612.0000 - mae: 4117.3555\n",
            "Epoch 20/20\n",
            "\u001b[1m936/936\u001b[0m \u001b[32m━━━━━━━━━━━━━━━━━━━━\u001b[0m\u001b[37m\u001b[0m \u001b[1m2s\u001b[0m 2ms/step - loss: 36132776.0000 - mae: 4090.8562\n",
            "MAE:  4004.239501953125\n"
          ]
        }
      ]
    },
    {
      "cell_type": "markdown",
      "source": [
        "# Classification"
      ],
      "metadata": {
        "id": "vaVBhQpzGnk4"
      }
    },
    {
      "cell_type": "code",
      "source": [
        "import pandas as pd\n",
        "from collections import Counter\n",
        "from sklearn.preprocessing import LabelEncoder\n",
        "import tensorflow\n",
        "from tensorflow.keras.models import Sequential\n",
        "from tensorflow.keras.layers import InputLayer, Dense\n",
        "from sklearn.metrics import classification_report\n",
        "import numpy as np\n",
        "\n",
        "# 載入訓練與測試資料集\n",
        "train_data = pd.read_csv(\"drive/MyDrive/MachineLearning/air_quality_train.csv\")\n",
        "test_data = pd.read_csv(\"drive/MyDrive/MachineLearning/air_quality_test.csv\")\n",
        "\n",
        "# 查看訓練資料的欄位與類型資訊\n",
        "print(train_data.info())\n",
        "\n",
        "# 檢查目標變數 'Air_Quality' 的類別分佈\n",
        "print(\"Class distribution in training data:\", Counter(train_data[\"Air_Quality\"]))\n",
        "\n",
        "# 從訓練資料中提取特徵與標籤\n",
        "# 假設特徵包括以下污染物指標和 AQI（空氣品質指數）\n",
        "x_train = train_data[['PM2.5', 'PM10', 'NO', 'NO2', 'NOx', 'NH3', 'CO', 'SO2', 'O3', 'Benzene', 'Toluene', 'Xylene', 'AQI']]\n",
        "y_train = train_data[\"Air_Quality\"]\n",
        "\n",
        "# 從測試資料中提取特徵與標籤\n",
        "x_test = test_data[['PM2.5', 'PM10', 'NO', 'NO2', 'NOx', 'NH3', 'CO', 'SO2', 'O3', 'Benzene', 'Toluene', 'Xylene', 'AQI']]\n",
        "y_test = test_data[\"Air_Quality\"]\n",
        "\n",
        "# 將類別標籤（如 'Good', 'Moderate', 'Unhealthy'）編碼為整數\n",
        "le = LabelEncoder()\n",
        "y_train = le.fit_transform(y_train.astype(str))\n",
        "y_test = le.transform(y_test.astype(str))\n",
        "\n",
        "# 將整數標籤轉換為 One-Hot 編碼（多分類模型所需）\n",
        "y_train = tensorflow.keras.utils.to_categorical(y_train)\n",
        "y_test = tensorflow.keras.utils.to_categorical(y_test)\n",
        "\n",
        "\n",
        "# 設計神經網路模型\n",
        "model = Sequential()\n",
        "# 輸入層：輸入形狀為特徵數量（13個特徵）\n",
        "model.add(InputLayer(shape=(x_train.shape[1],)))\n",
        "# 隱藏層：10個神經元，ReLU 激活函數\n",
        "model.add(Dense(10, activation='relu'))\n",
        "# 輸出層：6個神經元（對應6個類別），Softmax 激活函數\n",
        "model.add(Dense(6, activation='softmax'))\n",
        "\n",
        "# 編譯模型，使用分類交叉熵作為損失函數，Adam 優化器，並評估準確率\n",
        "model.compile(loss='categorical_crossentropy', optimizer='adam', metrics=['accuracy'])\n",
        "\n",
        "# 訓練模型：使用訓練資料進行學習\n",
        "model.fit(x_train, y_train, epochs=30, batch_size=16, verbose=0)\n",
        "\n",
        "# 使用測試資料進行評估\n",
        "y_pred = model.predict(x_test)\n",
        "# 將模型預測的 One-Hot 編碼轉換回類別索引\n",
        "y_pred = np.argmax(y_pred, axis=1)\n",
        "y_true = np.argmax(y_test, axis=1)\n",
        "\n",
        "# 顯示分類結果報告，包括精確度、召回率、F1分數\n",
        "print(classification_report(y_true, y_pred, target_names=le.classes_))\n"
      ],
      "metadata": {
        "colab": {
          "base_uri": "https://localhost:8080/"
        },
        "id": "vA-gR8deGoU0",
        "outputId": "0ff3c11e-4317-4a3d-b957-a9903a4bc77e"
      },
      "execution_count": 12,
      "outputs": [
        {
          "output_type": "stream",
          "name": "stdout",
          "text": [
            "<class 'pandas.core.frame.DataFrame'>\n",
            "RangeIndex: 7782 entries, 0 to 7781\n",
            "Data columns (total 14 columns):\n",
            " #   Column       Non-Null Count  Dtype  \n",
            "---  ------       --------------  -----  \n",
            " 0   PM2.5        7782 non-null   float64\n",
            " 1   PM10         7782 non-null   float64\n",
            " 2   NO           7782 non-null   float64\n",
            " 3   NO2          7782 non-null   float64\n",
            " 4   NOx          7782 non-null   float64\n",
            " 5   NH3          7782 non-null   float64\n",
            " 6   CO           7782 non-null   float64\n",
            " 7   SO2          7782 non-null   float64\n",
            " 8   O3           7782 non-null   float64\n",
            " 9   Benzene      7782 non-null   float64\n",
            " 10  Toluene      7782 non-null   float64\n",
            " 11  Xylene       7782 non-null   float64\n",
            " 12  AQI          7782 non-null   float64\n",
            " 13  Air_Quality  7782 non-null   object \n",
            "dtypes: float64(13), object(1)\n",
            "memory usage: 851.3+ KB\n",
            "None\n",
            "Class distribution in training data: Counter({'Very Poor': 1297, 'Poor': 1297, 'Moderate': 1297, 'Satisfactory': 1297, 'Severe': 1297, 'Good': 1297})\n"
          ]
        },
        {
          "output_type": "stream",
          "name": "stderr",
          "text": [
            "/usr/local/lib/python3.10/dist-packages/keras/src/layers/core/input_layer.py:26: UserWarning: Argument `input_shape` is deprecated. Use `shape` instead.\n",
            "  warnings.warn(\n"
          ]
        },
        {
          "output_type": "stream",
          "name": "stdout",
          "text": [
            "\u001b[1m44/44\u001b[0m \u001b[32m━━━━━━━━━━━━━━━━━━━━\u001b[0m\u001b[37m\u001b[0m \u001b[1m0s\u001b[0m 2ms/step\n",
            "              precision    recall  f1-score   support\n",
            "\n",
            "        Good       0.68      0.97      0.80       100\n",
            "    Moderate       0.90      0.50      0.64       508\n",
            "        Poor       0.45      0.77      0.57       172\n",
            "Satisfactory       0.76      0.85      0.80       452\n",
            "      Severe       0.48      0.84      0.61        37\n",
            "   Very Poor       0.67      0.57      0.61       125\n",
            "\n",
            "    accuracy                           0.70      1394\n",
            "   macro avg       0.66      0.75      0.67      1394\n",
            "weighted avg       0.75      0.70      0.69      1394\n",
            "\n"
          ]
        }
      ]
    }
  ]
}